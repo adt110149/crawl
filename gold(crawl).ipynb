{
  "nbformat": 4,
  "nbformat_minor": 0,
  "metadata": {
    "colab": {
      "provenance": []
    },
    "kernelspec": {
      "name": "python3",
      "display_name": "Python 3"
    },
    "language_info": {
      "name": "python"
    }
  },
  "cells": [
    {
      "cell_type": "code",
      "execution_count": 1,
      "metadata": {
        "id": "bt9IO1dw1_ba",
        "outputId": "42f38854-fe19-43bd-a276-e544cbe5a34d",
        "colab": {
          "base_uri": "https://localhost:8080/"
        }
      },
      "outputs": [
        {
          "output_type": "stream",
          "name": "stdout",
          "text": [
            "買進:1990\n",
            "賣出:2021\n"
          ]
        }
      ],
      "source": [
        "import time\n",
        "import urllib.request as request\n",
        "from bs4 import BeautifulSoup as sp\n",
        "import requests\n",
        "\n",
        "local_time=time.ctime(time.time())\n",
        "\n",
        "url=\"https://rate.bot.com.tw/gold?Lang=zh-TW\"\n",
        "\n",
        "with request.urlopen(url) as response:\n",
        "  data = response.read().decode(\"utf-8\")\n",
        "  root=sp(data,\"html.parser\")\n",
        "  gold_in=(root.find_all(\"td\")[5].text.replace(\"回售\",\"\").strip())\n",
        "  gold_out=(root.find_all(\"td\")[2].text.replace(\"買進\",\"\").strip())\n",
        "  print(\"買進:\"+gold_in+\"\\n賣出:\"+gold_out)\n",
        "  time.sleep(1)"
      ]
    }
  ]
}