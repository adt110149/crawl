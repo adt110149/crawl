{
  "nbformat": 4,
  "nbformat_minor": 0,
  "metadata": {
    "colab": {
      "provenance": []
    },
    "kernelspec": {
      "name": "python3",
      "display_name": "Python 3"
    },
    "language_info": {
      "name": "python"
    }
  },
  "cells": [
    {
      "cell_type": "code",
      "execution_count": null,
      "metadata": {
        "id": "dTzOATNB2Irj"
      },
      "outputs": [],
      "source": [
        "# Google搜尋\n",
        "import requests\n",
        "from bs4 import BeautifulSoup\n",
        "\n",
        "google_url = 'https://www.google.com.tw/search'\n",
        "\n",
        "\n",
        "my_params = {'q': '寒流'}\n",
        "\n",
        "\n",
        "r = requests.get(google_url, params = my_params)\n",
        "\n",
        "if r.status_code == requests.codes.ok:\n",
        "\n",
        "  soup = BeautifulSoup(r.text, 'html.parser')\n",
        "\n",
        "\n",
        "\n",
        "  items = soup.select('div.kCrYT > a[href^=\"/url\"]')\n",
        "\n",
        "  for i in items:\n",
        "    print(\"標題：\" + i.text)\n",
        "    print(\"網址：\" + i.get('href'))"
      ]
    }
  ]
}